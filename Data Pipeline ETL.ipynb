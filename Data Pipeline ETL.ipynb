{
 "cells": [
  {
   "cell_type": "markdown",
   "id": "4c085797",
   "metadata": {},
   "source": [
    "# Project: Car Price Analysis Project"
   ]
  },
  {
   "cell_type": "markdown",
   "id": "78ac0b77",
   "metadata": {},
   "source": [
    "# Problem Statment:"
   ]
  },
  {
   "cell_type": "markdown",
   "id": "5e84691c",
   "metadata": {},
   "source": [
    "As a car dealership owner, I want to analyze and optimize our pricing strategy to maximize profitability and customer satisfaction.Optimize Pricing Strategy: Determine the ideal pricing for each car model, taking into account factors such as the model year, brand, mileage, and certification status. The aim is to set competitive prices that attract customers while maximizing our profit margins."
   ]
  },
  {
   "cell_type": "markdown",
   "id": "829103ac",
   "metadata": {},
   "source": [
    "# Extract Data: Data Collection From https://www.cars.com/ website"
   ]
  },
  {
   "cell_type": "markdown",
   "id": "324391f2",
   "metadata": {},
   "source": [
    "Data Collect:\n",
    "1. Certified\n",
    "2. model\n",
    "3. mileage\n",
    "4. price \n",
    "5. monthly_payment\n",
    "6. dealer\n",
    "7. review\n",
    "8. rating"
   ]
  },
  {
   "cell_type": "markdown",
   "id": "b2c2c485",
   "metadata": {},
   "source": [
    "# Import Library"
   ]
  },
  {
   "cell_type": "code",
   "execution_count": 1,
   "id": "62ac65c0",
   "metadata": {},
   "outputs": [],
   "source": [
    "import numpy as np\n",
    "import pandas as pd\n",
    "import requests\n",
    "from bs4 import BeautifulSoup\n",
    "import warnings\n",
    "warnings.filterwarnings('ignore')"
   ]
  },
  {
   "cell_type": "code",
   "execution_count": 2,
   "id": "32e831e9",
   "metadata": {},
   "outputs": [],
   "source": [
    "url=\"https://www.cars.com/shopping/results/?deal_ratings[]=great&deal_ratings[]=good&deal_ratings[]=fair&dealer_id=&keyword=&list_price_max=&list_price_min=&makes[]=&maximum_distance=all&mileage_max=&monthly_payment=&page=1&page_size=20&sort=best_match_desc&stock_type=all&year_max=&year_min=&zip=\"\n",
    "response = requests.get(url)"
   ]
  },
  {
   "cell_type": "code",
   "execution_count": 3,
   "id": "a0a05d28",
   "metadata": {},
   "outputs": [],
   "source": [
    "soup=BeautifulSoup(response.content,'html.parser')"
   ]
  },
  {
   "cell_type": "code",
   "execution_count": 4,
   "id": "c5efecd5",
   "metadata": {},
   "outputs": [],
   "source": [
    "result=soup.find_all('div',class_=\"vehicle-details\")"
   ]
  },
  {
   "cell_type": "code",
   "execution_count": 11,
   "id": "4c748237",
   "metadata": {},
   "outputs": [],
   "source": [
    "certified = []\n",
    "model = []\n",
    "mileage = []\n",
    "price = []\n",
    "monthly = []\n",
    "dealer=[]\n",
    "review=[]\n",
    "rating=[]\n",
    "\n",
    "for i in range(1,200):\n",
    "    url=\"https://www.cars.com/shopping/results/?deal_ratings[]=great&deal_ratings[]=good&deal_ratings[]=fair&dealer_id=&keyword=&list_price_max=&list_price_min=&makes[]=&maximum_distance=all&mileage_max=&monthly_payment=&page=1\"+str(i)\n",
    "    response = requests.get(url)\n",
    "    soup=BeautifulSoup(response.content,'html.parser')\n",
    "    result=soup.find_all('div',class_=\"vehicle-details\")\n",
    "    \n",
    "\n",
    "    for results in result:  # Assuming 'results' is a list of HTML elements\n",
    "        try:\n",
    "            certified.append(results.find('p', class_=\"stock-type\").get_text())\n",
    "        except:\n",
    "            certified.append(\"N/A\")\n",
    "\n",
    "        try:\n",
    "            model.append(results.find('h2', class_=\"title\").get_text())\n",
    "        except:\n",
    "            model.append(\"N/A\")\n",
    "\n",
    "        try:\n",
    "            mileage.append(results.find('div', class_='mileage').get_text())\n",
    "        except:\n",
    "            mileage.append(\"N/A\")\n",
    "\n",
    "        try:\n",
    "            price.append(results.find('span', class_='primary-price').get_text())\n",
    "        except:\n",
    "            price.append(\"N/A\")\n",
    "\n",
    "        try:\n",
    "            monthly.append(results.find('span', class_='sds-badge__label').get_text())\n",
    "        except:\n",
    "            monthly.append(\"N/A\")\n",
    "\n",
    "        try:\n",
    "            dealer.append(results.find('div', class_='dealer-name').get_text())\n",
    "        except:\n",
    "            dealer.append(\"N/A\")\n",
    "\n",
    "        try:\n",
    "            review.append(results.find('span', class_='sds-rating__link').get_text())\n",
    "        except:\n",
    "            review.append(\"N/A\")\n",
    "\n",
    "        try:\n",
    "            rating.append(results.find('span', class_='sds-rating__count').get_text())\n",
    "        except:\n",
    "            rating.append(\"N/A\")\n"
   ]
  },
  {
   "cell_type": "code",
   "execution_count": 138,
   "id": "225e4b5d",
   "metadata": {},
   "outputs": [],
   "source": [
    "data=pd.DataFrame({'certified':certified,'model':model,'mileage':mileage,'price':price,'monthly':monthly,'dealer':dealer,'review':review,'rating':rating})"
   ]
  },
  {
   "cell_type": "code",
   "execution_count": 139,
   "id": "525f3834",
   "metadata": {},
   "outputs": [
    {
     "data": {
      "text/html": [
       "<div>\n",
       "<style scoped>\n",
       "    .dataframe tbody tr th:only-of-type {\n",
       "        vertical-align: middle;\n",
       "    }\n",
       "\n",
       "    .dataframe tbody tr th {\n",
       "        vertical-align: top;\n",
       "    }\n",
       "\n",
       "    .dataframe thead th {\n",
       "        text-align: right;\n",
       "    }\n",
       "</style>\n",
       "<table border=\"1\" class=\"dataframe\">\n",
       "  <thead>\n",
       "    <tr style=\"text-align: right;\">\n",
       "      <th></th>\n",
       "      <th>certified</th>\n",
       "      <th>model</th>\n",
       "      <th>mileage</th>\n",
       "      <th>price</th>\n",
       "      <th>monthly</th>\n",
       "      <th>dealer</th>\n",
       "      <th>review</th>\n",
       "      <th>rating</th>\n",
       "    </tr>\n",
       "  </thead>\n",
       "  <tbody>\n",
       "    <tr>\n",
       "      <th>0</th>\n",
       "      <td>New</td>\n",
       "      <td>2024 Hyundai Tucson Limited</td>\n",
       "      <td>N/A</td>\n",
       "      <td>$40,280</td>\n",
       "      <td>Hot Car</td>\n",
       "      <td>\\nSuntrup Hyundai South\\n</td>\n",
       "      <td>N/A</td>\n",
       "      <td>N/A</td>\n",
       "    </tr>\n",
       "    <tr>\n",
       "      <th>1</th>\n",
       "      <td>Used</td>\n",
       "      <td>2020 BMW X5 xDrive40i</td>\n",
       "      <td>44,710 mi.</td>\n",
       "      <td>$39,894</td>\n",
       "      <td>Good Deal | $607 under</td>\n",
       "      <td>\\nEd Napleton Acura Kia\\n</td>\n",
       "      <td>(608 reviews)</td>\n",
       "      <td>3.6</td>\n",
       "    </tr>\n",
       "    <tr>\n",
       "      <th>2</th>\n",
       "      <td>Acura Certified</td>\n",
       "      <td>2021 Acura RDX Advance Package</td>\n",
       "      <td>25,380 mi.</td>\n",
       "      <td>$38,495</td>\n",
       "      <td>Good Deal</td>\n",
       "      <td>\\nEd Napleton Acura Kia\\n</td>\n",
       "      <td>(608 reviews)</td>\n",
       "      <td>3.6</td>\n",
       "    </tr>\n",
       "    <tr>\n",
       "      <th>3</th>\n",
       "      <td>Kia Certified</td>\n",
       "      <td>2021 Kia Sorento SX</td>\n",
       "      <td>26,568 mi.</td>\n",
       "      <td>$33,464</td>\n",
       "      <td>Good Deal | $503 under</td>\n",
       "      <td>\\nEd Napleton Acura Kia\\n</td>\n",
       "      <td>(608 reviews)</td>\n",
       "      <td>3.6</td>\n",
       "    </tr>\n",
       "    <tr>\n",
       "      <th>4</th>\n",
       "      <td>Used</td>\n",
       "      <td>2020 Lincoln Aviator Black Label AWD</td>\n",
       "      <td>49,383 mi.</td>\n",
       "      <td>$45,999</td>\n",
       "      <td>Good Deal | $619 under</td>\n",
       "      <td>\\nEd Napleton Acura Kia\\n</td>\n",
       "      <td>(608 reviews)</td>\n",
       "      <td>3.6</td>\n",
       "    </tr>\n",
       "    <tr>\n",
       "      <th>...</th>\n",
       "      <td>...</td>\n",
       "      <td>...</td>\n",
       "      <td>...</td>\n",
       "      <td>...</td>\n",
       "      <td>...</td>\n",
       "      <td>...</td>\n",
       "      <td>...</td>\n",
       "      <td>...</td>\n",
       "    </tr>\n",
       "    <tr>\n",
       "      <th>4173</th>\n",
       "      <td>Used</td>\n",
       "      <td>2019 Chevrolet Suburban Premier</td>\n",
       "      <td>90,330 mi.</td>\n",
       "      <td>$43,159</td>\n",
       "      <td>Fair Deal</td>\n",
       "      <td>\\nAutoNation Buick GMC Park Meadows\\n</td>\n",
       "      <td>(698 reviews)</td>\n",
       "      <td>4.5</td>\n",
       "    </tr>\n",
       "    <tr>\n",
       "      <th>4174</th>\n",
       "      <td>Used</td>\n",
       "      <td>2021 Ford Ranger XLT</td>\n",
       "      <td>25,053 mi.</td>\n",
       "      <td>$32,595</td>\n",
       "      <td>Fair Deal</td>\n",
       "      <td>\\nDESOTO Ford\\n</td>\n",
       "      <td>(346 reviews)</td>\n",
       "      <td>4.4</td>\n",
       "    </tr>\n",
       "    <tr>\n",
       "      <th>4175</th>\n",
       "      <td>GMC Certified</td>\n",
       "      <td>2021 GMC Canyon Elevation</td>\n",
       "      <td>51,179 mi.</td>\n",
       "      <td>$34,000</td>\n",
       "      <td>Fair Deal</td>\n",
       "      <td>\\nSalt Lake Valley Buick GMC\\n</td>\n",
       "      <td>(163 reviews)</td>\n",
       "      <td>3.2</td>\n",
       "    </tr>\n",
       "    <tr>\n",
       "      <th>4176</th>\n",
       "      <td>Used</td>\n",
       "      <td>2021 Volkswagen Jetta 1.4T SE</td>\n",
       "      <td>61,628 mi.</td>\n",
       "      <td>$20,311</td>\n",
       "      <td>Fair Deal</td>\n",
       "      <td>\\nWalla Walla Valley Honda\\n</td>\n",
       "      <td>(152 reviews)</td>\n",
       "      <td>4.1</td>\n",
       "    </tr>\n",
       "    <tr>\n",
       "      <th>4177</th>\n",
       "      <td>Used</td>\n",
       "      <td>2016 Lexus GX 460 Base</td>\n",
       "      <td>76,125 mi.</td>\n",
       "      <td>$35,990</td>\n",
       "      <td>Fair Deal</td>\n",
       "      <td>\\nBMW of Salem\\n</td>\n",
       "      <td>(747 reviews)</td>\n",
       "      <td>4.8</td>\n",
       "    </tr>\n",
       "  </tbody>\n",
       "</table>\n",
       "<p>4178 rows × 8 columns</p>\n",
       "</div>"
      ],
      "text/plain": [
       "            certified                                 model     mileage  \\\n",
       "0                 New           2024 Hyundai Tucson Limited         N/A   \n",
       "1                Used                 2020 BMW X5 xDrive40i  44,710 mi.   \n",
       "2     Acura Certified        2021 Acura RDX Advance Package  25,380 mi.   \n",
       "3       Kia Certified                   2021 Kia Sorento SX  26,568 mi.   \n",
       "4                Used  2020 Lincoln Aviator Black Label AWD  49,383 mi.   \n",
       "...               ...                                   ...         ...   \n",
       "4173             Used       2019 Chevrolet Suburban Premier  90,330 mi.   \n",
       "4174             Used                  2021 Ford Ranger XLT  25,053 mi.   \n",
       "4175    GMC Certified             2021 GMC Canyon Elevation  51,179 mi.   \n",
       "4176             Used         2021 Volkswagen Jetta 1.4T SE  61,628 mi.   \n",
       "4177             Used                2016 Lexus GX 460 Base  76,125 mi.   \n",
       "\n",
       "        price                 monthly                                 dealer  \\\n",
       "0     $40,280                 Hot Car              \\nSuntrup Hyundai South\\n   \n",
       "1     $39,894  Good Deal | $607 under              \\nEd Napleton Acura Kia\\n   \n",
       "2     $38,495               Good Deal              \\nEd Napleton Acura Kia\\n   \n",
       "3     $33,464  Good Deal | $503 under              \\nEd Napleton Acura Kia\\n   \n",
       "4     $45,999  Good Deal | $619 under              \\nEd Napleton Acura Kia\\n   \n",
       "...       ...                     ...                                    ...   \n",
       "4173  $43,159               Fair Deal  \\nAutoNation Buick GMC Park Meadows\\n   \n",
       "4174  $32,595               Fair Deal                        \\nDESOTO Ford\\n   \n",
       "4175  $34,000               Fair Deal         \\nSalt Lake Valley Buick GMC\\n   \n",
       "4176  $20,311               Fair Deal           \\nWalla Walla Valley Honda\\n   \n",
       "4177  $35,990               Fair Deal                       \\nBMW of Salem\\n   \n",
       "\n",
       "             review rating  \n",
       "0               N/A    N/A  \n",
       "1     (608 reviews)    3.6  \n",
       "2     (608 reviews)    3.6  \n",
       "3     (608 reviews)    3.6  \n",
       "4     (608 reviews)    3.6  \n",
       "...             ...    ...  \n",
       "4173  (698 reviews)    4.5  \n",
       "4174  (346 reviews)    4.4  \n",
       "4175  (163 reviews)    3.2  \n",
       "4176  (152 reviews)    4.1  \n",
       "4177  (747 reviews)    4.8  \n",
       "\n",
       "[4178 rows x 8 columns]"
      ]
     },
     "execution_count": 139,
     "metadata": {},
     "output_type": "execute_result"
    }
   ],
   "source": [
    "data"
   ]
  },
  {
   "cell_type": "markdown",
   "id": "20334dee",
   "metadata": {},
   "source": [
    "# UnderStand Data"
   ]
  },
  {
   "cell_type": "code",
   "execution_count": 140,
   "id": "35349d06",
   "metadata": {},
   "outputs": [
    {
     "data": {
      "text/html": [
       "<div>\n",
       "<style scoped>\n",
       "    .dataframe tbody tr th:only-of-type {\n",
       "        vertical-align: middle;\n",
       "    }\n",
       "\n",
       "    .dataframe tbody tr th {\n",
       "        vertical-align: top;\n",
       "    }\n",
       "\n",
       "    .dataframe thead th {\n",
       "        text-align: right;\n",
       "    }\n",
       "</style>\n",
       "<table border=\"1\" class=\"dataframe\">\n",
       "  <thead>\n",
       "    <tr style=\"text-align: right;\">\n",
       "      <th></th>\n",
       "      <th>certified</th>\n",
       "      <th>model</th>\n",
       "      <th>mileage</th>\n",
       "      <th>price</th>\n",
       "      <th>monthly</th>\n",
       "      <th>dealer</th>\n",
       "      <th>review</th>\n",
       "      <th>rating</th>\n",
       "    </tr>\n",
       "  </thead>\n",
       "  <tbody>\n",
       "    <tr>\n",
       "      <th>0</th>\n",
       "      <td>New</td>\n",
       "      <td>2024 Hyundai Tucson Limited</td>\n",
       "      <td>N/A</td>\n",
       "      <td>$40,280</td>\n",
       "      <td>Hot Car</td>\n",
       "      <td>\\nSuntrup Hyundai South\\n</td>\n",
       "      <td>N/A</td>\n",
       "      <td>N/A</td>\n",
       "    </tr>\n",
       "    <tr>\n",
       "      <th>1</th>\n",
       "      <td>Used</td>\n",
       "      <td>2020 BMW X5 xDrive40i</td>\n",
       "      <td>44,710 mi.</td>\n",
       "      <td>$39,894</td>\n",
       "      <td>Good Deal | $607 under</td>\n",
       "      <td>\\nEd Napleton Acura Kia\\n</td>\n",
       "      <td>(608 reviews)</td>\n",
       "      <td>3.6</td>\n",
       "    </tr>\n",
       "    <tr>\n",
       "      <th>2</th>\n",
       "      <td>Acura Certified</td>\n",
       "      <td>2021 Acura RDX Advance Package</td>\n",
       "      <td>25,380 mi.</td>\n",
       "      <td>$38,495</td>\n",
       "      <td>Good Deal</td>\n",
       "      <td>\\nEd Napleton Acura Kia\\n</td>\n",
       "      <td>(608 reviews)</td>\n",
       "      <td>3.6</td>\n",
       "    </tr>\n",
       "    <tr>\n",
       "      <th>3</th>\n",
       "      <td>Kia Certified</td>\n",
       "      <td>2021 Kia Sorento SX</td>\n",
       "      <td>26,568 mi.</td>\n",
       "      <td>$33,464</td>\n",
       "      <td>Good Deal | $503 under</td>\n",
       "      <td>\\nEd Napleton Acura Kia\\n</td>\n",
       "      <td>(608 reviews)</td>\n",
       "      <td>3.6</td>\n",
       "    </tr>\n",
       "    <tr>\n",
       "      <th>4</th>\n",
       "      <td>Used</td>\n",
       "      <td>2020 Lincoln Aviator Black Label AWD</td>\n",
       "      <td>49,383 mi.</td>\n",
       "      <td>$45,999</td>\n",
       "      <td>Good Deal | $619 under</td>\n",
       "      <td>\\nEd Napleton Acura Kia\\n</td>\n",
       "      <td>(608 reviews)</td>\n",
       "      <td>3.6</td>\n",
       "    </tr>\n",
       "  </tbody>\n",
       "</table>\n",
       "</div>"
      ],
      "text/plain": [
       "         certified                                 model     mileage    price  \\\n",
       "0              New           2024 Hyundai Tucson Limited         N/A  $40,280   \n",
       "1             Used                 2020 BMW X5 xDrive40i  44,710 mi.  $39,894   \n",
       "2  Acura Certified        2021 Acura RDX Advance Package  25,380 mi.  $38,495   \n",
       "3    Kia Certified                   2021 Kia Sorento SX  26,568 mi.  $33,464   \n",
       "4             Used  2020 Lincoln Aviator Black Label AWD  49,383 mi.  $45,999   \n",
       "\n",
       "                  monthly                     dealer         review rating  \n",
       "0                 Hot Car  \\nSuntrup Hyundai South\\n            N/A    N/A  \n",
       "1  Good Deal | $607 under  \\nEd Napleton Acura Kia\\n  (608 reviews)    3.6  \n",
       "2               Good Deal  \\nEd Napleton Acura Kia\\n  (608 reviews)    3.6  \n",
       "3  Good Deal | $503 under  \\nEd Napleton Acura Kia\\n  (608 reviews)    3.6  \n",
       "4  Good Deal | $619 under  \\nEd Napleton Acura Kia\\n  (608 reviews)    3.6  "
      ]
     },
     "execution_count": 140,
     "metadata": {},
     "output_type": "execute_result"
    }
   ],
   "source": [
    "#check first five rows\n",
    "data.head(5)"
   ]
  },
  {
   "cell_type": "code",
   "execution_count": 141,
   "id": "7871d03f",
   "metadata": {},
   "outputs": [
    {
     "data": {
      "text/html": [
       "<div>\n",
       "<style scoped>\n",
       "    .dataframe tbody tr th:only-of-type {\n",
       "        vertical-align: middle;\n",
       "    }\n",
       "\n",
       "    .dataframe tbody tr th {\n",
       "        vertical-align: top;\n",
       "    }\n",
       "\n",
       "    .dataframe thead th {\n",
       "        text-align: right;\n",
       "    }\n",
       "</style>\n",
       "<table border=\"1\" class=\"dataframe\">\n",
       "  <thead>\n",
       "    <tr style=\"text-align: right;\">\n",
       "      <th></th>\n",
       "      <th>certified</th>\n",
       "      <th>model</th>\n",
       "      <th>mileage</th>\n",
       "      <th>price</th>\n",
       "      <th>monthly</th>\n",
       "      <th>dealer</th>\n",
       "      <th>review</th>\n",
       "      <th>rating</th>\n",
       "    </tr>\n",
       "  </thead>\n",
       "  <tbody>\n",
       "    <tr>\n",
       "      <th>4173</th>\n",
       "      <td>Used</td>\n",
       "      <td>2019 Chevrolet Suburban Premier</td>\n",
       "      <td>90,330 mi.</td>\n",
       "      <td>$43,159</td>\n",
       "      <td>Fair Deal</td>\n",
       "      <td>\\nAutoNation Buick GMC Park Meadows\\n</td>\n",
       "      <td>(698 reviews)</td>\n",
       "      <td>4.5</td>\n",
       "    </tr>\n",
       "    <tr>\n",
       "      <th>4174</th>\n",
       "      <td>Used</td>\n",
       "      <td>2021 Ford Ranger XLT</td>\n",
       "      <td>25,053 mi.</td>\n",
       "      <td>$32,595</td>\n",
       "      <td>Fair Deal</td>\n",
       "      <td>\\nDESOTO Ford\\n</td>\n",
       "      <td>(346 reviews)</td>\n",
       "      <td>4.4</td>\n",
       "    </tr>\n",
       "    <tr>\n",
       "      <th>4175</th>\n",
       "      <td>GMC Certified</td>\n",
       "      <td>2021 GMC Canyon Elevation</td>\n",
       "      <td>51,179 mi.</td>\n",
       "      <td>$34,000</td>\n",
       "      <td>Fair Deal</td>\n",
       "      <td>\\nSalt Lake Valley Buick GMC\\n</td>\n",
       "      <td>(163 reviews)</td>\n",
       "      <td>3.2</td>\n",
       "    </tr>\n",
       "    <tr>\n",
       "      <th>4176</th>\n",
       "      <td>Used</td>\n",
       "      <td>2021 Volkswagen Jetta 1.4T SE</td>\n",
       "      <td>61,628 mi.</td>\n",
       "      <td>$20,311</td>\n",
       "      <td>Fair Deal</td>\n",
       "      <td>\\nWalla Walla Valley Honda\\n</td>\n",
       "      <td>(152 reviews)</td>\n",
       "      <td>4.1</td>\n",
       "    </tr>\n",
       "    <tr>\n",
       "      <th>4177</th>\n",
       "      <td>Used</td>\n",
       "      <td>2016 Lexus GX 460 Base</td>\n",
       "      <td>76,125 mi.</td>\n",
       "      <td>$35,990</td>\n",
       "      <td>Fair Deal</td>\n",
       "      <td>\\nBMW of Salem\\n</td>\n",
       "      <td>(747 reviews)</td>\n",
       "      <td>4.8</td>\n",
       "    </tr>\n",
       "  </tbody>\n",
       "</table>\n",
       "</div>"
      ],
      "text/plain": [
       "          certified                            model     mileage    price  \\\n",
       "4173           Used  2019 Chevrolet Suburban Premier  90,330 mi.  $43,159   \n",
       "4174           Used             2021 Ford Ranger XLT  25,053 mi.  $32,595   \n",
       "4175  GMC Certified        2021 GMC Canyon Elevation  51,179 mi.  $34,000   \n",
       "4176           Used    2021 Volkswagen Jetta 1.4T SE  61,628 mi.  $20,311   \n",
       "4177           Used           2016 Lexus GX 460 Base  76,125 mi.  $35,990   \n",
       "\n",
       "        monthly                                 dealer         review rating  \n",
       "4173  Fair Deal  \\nAutoNation Buick GMC Park Meadows\\n  (698 reviews)    4.5  \n",
       "4174  Fair Deal                        \\nDESOTO Ford\\n  (346 reviews)    4.4  \n",
       "4175  Fair Deal         \\nSalt Lake Valley Buick GMC\\n  (163 reviews)    3.2  \n",
       "4176  Fair Deal           \\nWalla Walla Valley Honda\\n  (152 reviews)    4.1  \n",
       "4177  Fair Deal                       \\nBMW of Salem\\n  (747 reviews)    4.8  "
      ]
     },
     "execution_count": 141,
     "metadata": {},
     "output_type": "execute_result"
    }
   ],
   "source": [
    "#check last five rows\n",
    "data.tail(5)"
   ]
  },
  {
   "cell_type": "code",
   "execution_count": 142,
   "id": "1b060667",
   "metadata": {},
   "outputs": [
    {
     "data": {
      "text/html": [
       "<div>\n",
       "<style scoped>\n",
       "    .dataframe tbody tr th:only-of-type {\n",
       "        vertical-align: middle;\n",
       "    }\n",
       "\n",
       "    .dataframe tbody tr th {\n",
       "        vertical-align: top;\n",
       "    }\n",
       "\n",
       "    .dataframe thead th {\n",
       "        text-align: right;\n",
       "    }\n",
       "</style>\n",
       "<table border=\"1\" class=\"dataframe\">\n",
       "  <thead>\n",
       "    <tr style=\"text-align: right;\">\n",
       "      <th></th>\n",
       "      <th>certified</th>\n",
       "      <th>model</th>\n",
       "      <th>mileage</th>\n",
       "      <th>price</th>\n",
       "      <th>monthly</th>\n",
       "      <th>dealer</th>\n",
       "      <th>review</th>\n",
       "      <th>rating</th>\n",
       "    </tr>\n",
       "  </thead>\n",
       "  <tbody>\n",
       "    <tr>\n",
       "      <th>1885</th>\n",
       "      <td>Mercedes-Benz Certified</td>\n",
       "      <td>2021 Mercedes-Benz S-Class S 580 4MATIC</td>\n",
       "      <td>16,188 mi.</td>\n",
       "      <td>$91,381</td>\n",
       "      <td>Good Deal | $1,128 under</td>\n",
       "      <td>\\nMercedes-Benz of West Chester\\n</td>\n",
       "      <td>(1,816 reviews)</td>\n",
       "      <td>4.5</td>\n",
       "    </tr>\n",
       "    <tr>\n",
       "      <th>2936</th>\n",
       "      <td>GMC Certified</td>\n",
       "      <td>2021 GMC Canyon Elevation</td>\n",
       "      <td>51,179 mi.</td>\n",
       "      <td>$34,000</td>\n",
       "      <td>Fair Deal</td>\n",
       "      <td>\\nSalt Lake Valley Buick GMC\\n</td>\n",
       "      <td>(163 reviews)</td>\n",
       "      <td>3.2</td>\n",
       "    </tr>\n",
       "    <tr>\n",
       "      <th>998</th>\n",
       "      <td>Used</td>\n",
       "      <td>2016 BMW 750 i xDrive</td>\n",
       "      <td>91,281 mi.</td>\n",
       "      <td>$22,984</td>\n",
       "      <td>Great Deal | $3,478 under</td>\n",
       "      <td>\\nAutoNation Honda Dulles\\n</td>\n",
       "      <td>(3,155 reviews)</td>\n",
       "      <td>4.7</td>\n",
       "    </tr>\n",
       "    <tr>\n",
       "      <th>1477</th>\n",
       "      <td>Cadillac Certified</td>\n",
       "      <td>2021 Cadillac CT5 Premium Luxury AWD</td>\n",
       "      <td>38,602 mi.</td>\n",
       "      <td>$36,200</td>\n",
       "      <td>Good Deal</td>\n",
       "      <td>\\nSport Chevrolet Cadillac\\n</td>\n",
       "      <td>(351 reviews)</td>\n",
       "      <td>4.7</td>\n",
       "    </tr>\n",
       "    <tr>\n",
       "      <th>4167</th>\n",
       "      <td>Used</td>\n",
       "      <td>2023 Chevrolet Silverado 1500 LT</td>\n",
       "      <td>4,553 mi.</td>\n",
       "      <td>$52,999</td>\n",
       "      <td>Fair Deal</td>\n",
       "      <td>\\nMazda 112\\n</td>\n",
       "      <td>(1,952 reviews)</td>\n",
       "      <td>4.9</td>\n",
       "    </tr>\n",
       "  </tbody>\n",
       "</table>\n",
       "</div>"
      ],
      "text/plain": [
       "                    certified                                    model  \\\n",
       "1885  Mercedes-Benz Certified  2021 Mercedes-Benz S-Class S 580 4MATIC   \n",
       "2936            GMC Certified                2021 GMC Canyon Elevation   \n",
       "998                      Used                    2016 BMW 750 i xDrive   \n",
       "1477       Cadillac Certified     2021 Cadillac CT5 Premium Luxury AWD   \n",
       "4167                     Used         2023 Chevrolet Silverado 1500 LT   \n",
       "\n",
       "         mileage    price                    monthly  \\\n",
       "1885  16,188 mi.  $91,381   Good Deal | $1,128 under   \n",
       "2936  51,179 mi.  $34,000                  Fair Deal   \n",
       "998   91,281 mi.  $22,984  Great Deal | $3,478 under   \n",
       "1477  38,602 mi.  $36,200                  Good Deal   \n",
       "4167   4,553 mi.  $52,999                  Fair Deal   \n",
       "\n",
       "                                 dealer           review rating  \n",
       "1885  \\nMercedes-Benz of West Chester\\n  (1,816 reviews)    4.5  \n",
       "2936     \\nSalt Lake Valley Buick GMC\\n    (163 reviews)    3.2  \n",
       "998         \\nAutoNation Honda Dulles\\n  (3,155 reviews)    4.7  \n",
       "1477       \\nSport Chevrolet Cadillac\\n    (351 reviews)    4.7  \n",
       "4167                      \\nMazda 112\\n  (1,952 reviews)    4.9  "
      ]
     },
     "execution_count": 142,
     "metadata": {},
     "output_type": "execute_result"
    }
   ],
   "source": [
    "#check sample five rows\n",
    "data.sample(5)"
   ]
  },
  {
   "cell_type": "code",
   "execution_count": 143,
   "id": "c777db78",
   "metadata": {},
   "outputs": [
    {
     "data": {
      "text/plain": [
       "(4178, 8)"
      ]
     },
     "execution_count": 143,
     "metadata": {},
     "output_type": "execute_result"
    }
   ],
   "source": [
    "# check data shape\n",
    "data.shape"
   ]
  },
  {
   "cell_type": "code",
   "execution_count": 144,
   "id": "57c00fec",
   "metadata": {},
   "outputs": [
    {
     "data": {
      "text/plain": [
       "Index(['certified', 'model', 'mileage', 'price', 'monthly', 'dealer', 'review',\n",
       "       'rating'],\n",
       "      dtype='object')"
      ]
     },
     "execution_count": 144,
     "metadata": {},
     "output_type": "execute_result"
    }
   ],
   "source": [
    "# cehck columns name\n",
    "data.columns"
   ]
  },
  {
   "cell_type": "code",
   "execution_count": 145,
   "id": "ebf36b47",
   "metadata": {},
   "outputs": [
    {
     "data": {
      "text/plain": [
       "certified    object\n",
       "model        object\n",
       "mileage      object\n",
       "price        object\n",
       "monthly      object\n",
       "dealer       object\n",
       "review       object\n",
       "rating       object\n",
       "dtype: object"
      ]
     },
     "execution_count": 145,
     "metadata": {},
     "output_type": "execute_result"
    }
   ],
   "source": [
    "# check data type\n",
    "data.dtypes"
   ]
  },
  {
   "cell_type": "code",
   "execution_count": 146,
   "id": "b55fef85",
   "metadata": {},
   "outputs": [
    {
     "name": "stdout",
     "output_type": "stream",
     "text": [
      "<class 'pandas.core.frame.DataFrame'>\n",
      "RangeIndex: 4178 entries, 0 to 4177\n",
      "Data columns (total 8 columns):\n",
      " #   Column     Non-Null Count  Dtype \n",
      "---  ------     --------------  ----- \n",
      " 0   certified  4178 non-null   object\n",
      " 1   model      4178 non-null   object\n",
      " 2   mileage    4178 non-null   object\n",
      " 3   price      4178 non-null   object\n",
      " 4   monthly    4178 non-null   object\n",
      " 5   dealer     4178 non-null   object\n",
      " 6   review     4178 non-null   object\n",
      " 7   rating     4178 non-null   object\n",
      "dtypes: object(8)\n",
      "memory usage: 261.2+ KB\n"
     ]
    }
   ],
   "source": [
    "# check basic info\n",
    "data.info()"
   ]
  },
  {
   "cell_type": "markdown",
   "id": "c9bda983",
   "metadata": {},
   "source": [
    "# Data Tranasform"
   ]
  },
  {
   "cell_type": "markdown",
   "id": "1fb083d3",
   "metadata": {},
   "source": [
    "### Certified Columns"
   ]
  },
  {
   "cell_type": "code",
   "execution_count": 147,
   "id": "b33a87ea",
   "metadata": {},
   "outputs": [],
   "source": [
    "data.rename(columns={'certified':'Certified'},inplace=True)"
   ]
  },
  {
   "cell_type": "code",
   "execution_count": 148,
   "id": "a409a26e",
   "metadata": {},
   "outputs": [
    {
     "data": {
      "text/plain": [
       "Used                       3554\n",
       "GMC Certified               116\n",
       "Honda Certified             114\n",
       "New                          92\n",
       "Porsche Certified            61\n",
       "Toyota Certified             43\n",
       "Chevrolet Certified          32\n",
       "Ford Certified               27\n",
       "Mercedes-Benz Certified      20\n",
       "BMW Certified                14\n",
       "Volvo Certified              14\n",
       "Audi Certified               12\n",
       "Kia Certified                11\n",
       "Acura Certified              11\n",
       "Hyundai Certified            11\n",
       "Nissan Certified             10\n",
       "INFINITI Certified            9\n",
       "Jeep Certified                5\n",
       "RAM Certified                 4\n",
       "Cadillac Certified            3\n",
       "Volkswagen Certified          3\n",
       "Lincoln Certified             3\n",
       "Dodge Certified               3\n",
       "Subaru Certified              2\n",
       "Buick Certified               2\n",
       "Chrysler Certified            1\n",
       "Maserati Certified            1\n",
       "Name: Certified, dtype: int64"
      ]
     },
     "execution_count": 148,
     "metadata": {},
     "output_type": "execute_result"
    }
   ],
   "source": [
    "data['Certified'].value_counts()"
   ]
  },
  {
   "cell_type": "markdown",
   "id": "3ac2043a",
   "metadata": {},
   "source": [
    "### model"
   ]
  },
  {
   "cell_type": "code",
   "execution_count": 149,
   "id": "0bc21773",
   "metadata": {},
   "outputs": [],
   "source": [
    "data.rename(columns={'model':'Model_Name'},inplace=True)"
   ]
  },
  {
   "cell_type": "code",
   "execution_count": 150,
   "id": "30e18fcb",
   "metadata": {},
   "outputs": [],
   "source": [
    "data['Model_Year']=data['Model_Name'].str.split(' ').str[0]\n",
    "data['Brand_Name']=data['Model_Name'].str.split(' ').str[1]"
   ]
  },
  {
   "cell_type": "markdown",
   "id": "0eca7d4a",
   "metadata": {},
   "source": [
    "### mileage"
   ]
  },
  {
   "cell_type": "code",
   "execution_count": 151,
   "id": "74134cbf",
   "metadata": {},
   "outputs": [],
   "source": [
    "data.rename(columns={'mileage':'Mileage'},inplace=True)"
   ]
  },
  {
   "cell_type": "code",
   "execution_count": 152,
   "id": "e1cacad5",
   "metadata": {},
   "outputs": [],
   "source": [
    "data['Mileage']=data['Mileage'].replace('NaN',0)"
   ]
  },
  {
   "cell_type": "code",
   "execution_count": 153,
   "id": "78658cb9",
   "metadata": {},
   "outputs": [],
   "source": [
    "data['Mileage']=data['Mileage'].str.replace('mi','')"
   ]
  },
  {
   "cell_type": "code",
   "execution_count": 154,
   "id": "0357cb14",
   "metadata": {},
   "outputs": [],
   "source": [
    "data['Mileage']=data['Mileage'].str.replace(',','')"
   ]
  },
  {
   "cell_type": "code",
   "execution_count": 155,
   "id": "1fd86267",
   "metadata": {},
   "outputs": [],
   "source": [
    "data['Mileage']=data['Mileage'].str.replace('.','')"
   ]
  },
  {
   "cell_type": "code",
   "execution_count": 195,
   "id": "56539e75",
   "metadata": {},
   "outputs": [],
   "source": [
    "data['Mileage']=data['Mileage'].replace('N/A',0)"
   ]
  },
  {
   "cell_type": "code",
   "execution_count": 197,
   "id": "2f067a5e",
   "metadata": {},
   "outputs": [],
   "source": [
    "#Handeling Null Values\n",
    "data['Mileage']=data['Mileage'].fillna(round(data['Mileage'].median()))"
   ]
  },
  {
   "cell_type": "code",
   "execution_count": 198,
   "id": "9fb352dc",
   "metadata": {},
   "outputs": [],
   "source": [
    "data['Mileage']=data['Mileage'].astype('int')"
   ]
  },
  {
   "cell_type": "code",
   "execution_count": 199,
   "id": "5834ccf7",
   "metadata": {},
   "outputs": [
    {
     "data": {
      "text/plain": [
       "array([    0, 44710, 25380, ..., 51179, 61628, 76125])"
      ]
     },
     "execution_count": 199,
     "metadata": {},
     "output_type": "execute_result"
    }
   ],
   "source": [
    "data['Mileage'].unique()"
   ]
  },
  {
   "cell_type": "markdown",
   "id": "bfe1f8ce",
   "metadata": {},
   "source": [
    "### Price"
   ]
  },
  {
   "cell_type": "code",
   "execution_count": 157,
   "id": "74e75695",
   "metadata": {},
   "outputs": [],
   "source": [
    "data.rename(columns={'price':'Price'},inplace=True)"
   ]
  },
  {
   "cell_type": "code",
   "execution_count": 158,
   "id": "267c59db",
   "metadata": {},
   "outputs": [],
   "source": [
    "data['Price']=data['Price'].str.replace('$','')"
   ]
  },
  {
   "cell_type": "code",
   "execution_count": 159,
   "id": "9e4c31dc",
   "metadata": {},
   "outputs": [],
   "source": [
    "data['Price']=data['Price'].str.replace(',','')"
   ]
  },
  {
   "cell_type": "code",
   "execution_count": 162,
   "id": "f0eac0d9",
   "metadata": {},
   "outputs": [],
   "source": [
    "data['Price']=data['Price'].astype('int')"
   ]
  },
  {
   "cell_type": "code",
   "execution_count": 161,
   "id": "9330f40a",
   "metadata": {},
   "outputs": [],
   "source": [
    "data=data[data['Price']!='Not Priced']"
   ]
  },
  {
   "cell_type": "markdown",
   "id": "4e617ffb",
   "metadata": {},
   "source": [
    "### Dealer"
   ]
  },
  {
   "cell_type": "code",
   "execution_count": 163,
   "id": "58ce4647",
   "metadata": {},
   "outputs": [],
   "source": [
    "data.rename(columns={'dealer':'Delaer_Name'},inplace=True)"
   ]
  },
  {
   "cell_type": "code",
   "execution_count": 164,
   "id": "3824f9ba",
   "metadata": {},
   "outputs": [],
   "source": [
    "data['Delaer_Name']=data['Delaer_Name'].str.replace('\\n','')"
   ]
  },
  {
   "cell_type": "markdown",
   "id": "d32b133f",
   "metadata": {},
   "source": [
    "### Review"
   ]
  },
  {
   "cell_type": "code",
   "execution_count": 165,
   "id": "099eb6f0",
   "metadata": {},
   "outputs": [],
   "source": [
    "data.rename(columns={'review':'Review'},inplace=True)"
   ]
  },
  {
   "cell_type": "code",
   "execution_count": 166,
   "id": "5e2d720f",
   "metadata": {},
   "outputs": [],
   "source": [
    "data['Review']=data['Review'].str.replace('(','')"
   ]
  },
  {
   "cell_type": "code",
   "execution_count": 167,
   "id": "5fe853e9",
   "metadata": {},
   "outputs": [],
   "source": [
    "data['Review']=data['Review'].str.replace(')','')"
   ]
  },
  {
   "cell_type": "code",
   "execution_count": 168,
   "id": "c211a3a8",
   "metadata": {},
   "outputs": [],
   "source": [
    "data['Review']=data['Review'].str.replace('reviews','')"
   ]
  },
  {
   "cell_type": "code",
   "execution_count": 169,
   "id": "6caaff3e",
   "metadata": {},
   "outputs": [],
   "source": [
    "data['Review']=data['Review'].str.replace(',','')"
   ]
  },
  {
   "cell_type": "code",
   "execution_count": 170,
   "id": "a2c8f707",
   "metadata": {},
   "outputs": [],
   "source": [
    "data['Review']=data['Review'].replace('N/A',0)"
   ]
  },
  {
   "cell_type": "code",
   "execution_count": 233,
   "id": "56e5db00",
   "metadata": {},
   "outputs": [],
   "source": [
    "data['Review']=data['Review'].str.replace('review','').astype('float')"
   ]
  },
  {
   "cell_type": "markdown",
   "id": "16a1c405",
   "metadata": {},
   "source": [
    "### Rating"
   ]
  },
  {
   "cell_type": "code",
   "execution_count": 171,
   "id": "b4c1bc72",
   "metadata": {},
   "outputs": [],
   "source": [
    "data.rename(columns={'rating':'Rating'},inplace=True)"
   ]
  },
  {
   "cell_type": "code",
   "execution_count": 172,
   "id": "3af2484b",
   "metadata": {},
   "outputs": [],
   "source": [
    "data['Rating']=data['Rating'].replace('N/A',0).astype('float')"
   ]
  },
  {
   "cell_type": "markdown",
   "id": "a74dc9c1",
   "metadata": {},
   "source": [
    "# Monthly"
   ]
  },
  {
   "cell_type": "code",
   "execution_count": 174,
   "id": "9005b4c8",
   "metadata": {},
   "outputs": [],
   "source": [
    "#Extract Two Columns Deal and Monthly Payment\n",
    "data['Deal']=data['monthly'].str.split('|').str[0]\n",
    "data['Monthly_payment']=data['monthly'].str.split('|').str[1]"
   ]
  },
  {
   "cell_type": "code",
   "execution_count": 175,
   "id": "5b1bf31d",
   "metadata": {},
   "outputs": [],
   "source": [
    "data['Deal']=data['Deal'].str.replace('N/A','Other')"
   ]
  },
  {
   "cell_type": "code",
   "execution_count": 176,
   "id": "7cf9148e",
   "metadata": {},
   "outputs": [
    {
     "data": {
      "text/plain": [
       "array(['Hot Car', 'Good Deal ', 'Good Deal', 'Great Deal ', 'Other',\n",
       "       'Fair Deal', 'Great Deal'], dtype=object)"
      ]
     },
     "execution_count": 176,
     "metadata": {},
     "output_type": "execute_result"
    }
   ],
   "source": [
    "data['Deal'].unique()"
   ]
  },
  {
   "cell_type": "code",
   "execution_count": 177,
   "id": "a800a0cc",
   "metadata": {},
   "outputs": [],
   "source": [
    "data['Deal']=data['Deal'].map({'Hot Car':'Other Deal','Good Deal ':'Good Deal','Good Deal':'Good Deal','Great Deal ':'Great Deal','Great Deal':'Great Deal','Other':'Other Deal','Fair Deal':'Fair Deal'})"
   ]
  },
  {
   "cell_type": "code",
   "execution_count": 178,
   "id": "5bef6a84",
   "metadata": {},
   "outputs": [
    {
     "data": {
      "text/plain": [
       "array(['Other Deal', 'Good Deal', 'Great Deal', 'Fair Deal'], dtype=object)"
      ]
     },
     "execution_count": 178,
     "metadata": {},
     "output_type": "execute_result"
    }
   ],
   "source": [
    "data['Deal'].unique()"
   ]
  },
  {
   "cell_type": "markdown",
   "id": "326f77cf",
   "metadata": {},
   "source": [
    "### Monthly Payment"
   ]
  },
  {
   "cell_type": "code",
   "execution_count": 179,
   "id": "31cf759b",
   "metadata": {},
   "outputs": [],
   "source": [
    "data['Monthly_payment']=data['Monthly_payment'].str.replace('under','')"
   ]
  },
  {
   "cell_type": "code",
   "execution_count": 180,
   "id": "49784557",
   "metadata": {},
   "outputs": [],
   "source": [
    "data['Monthly_payment']=data['Monthly_payment'].str.replace('$','')"
   ]
  },
  {
   "cell_type": "code",
   "execution_count": 181,
   "id": "e9aa2c24",
   "metadata": {},
   "outputs": [],
   "source": [
    "data['Monthly_payment']=data['Monthly_payment'].str.replace(',','')"
   ]
  },
  {
   "cell_type": "code",
   "execution_count": 187,
   "id": "0ba2e4ca",
   "metadata": {},
   "outputs": [
    {
     "data": {
      "text/plain": [
       "2083"
      ]
     },
     "execution_count": 187,
     "metadata": {},
     "output_type": "execute_result"
    }
   ],
   "source": [
    "# check duplicated\n",
    "data.duplicated().sum()"
   ]
  },
  {
   "cell_type": "code",
   "execution_count": 189,
   "id": "5bed8001",
   "metadata": {},
   "outputs": [],
   "source": [
    "#drop duplicated\n",
    "data.drop_duplicates(inplace=True)"
   ]
  },
  {
   "cell_type": "code",
   "execution_count": 190,
   "id": "b2e1ec7e",
   "metadata": {},
   "outputs": [
    {
     "data": {
      "text/plain": [
       "0"
      ]
     },
     "execution_count": 190,
     "metadata": {},
     "output_type": "execute_result"
    }
   ],
   "source": [
    "# Again check duplicated after drop duplicated\n",
    "data.duplicated().sum()"
   ]
  },
  {
   "cell_type": "code",
   "execution_count": 242,
   "id": "9ba3aa7b",
   "metadata": {},
   "outputs": [
    {
     "data": {
      "text/plain": [
       "Certified             0\n",
       "Model_Name            0\n",
       "Mileage               0\n",
       "Price                 0\n",
       "monthly               0\n",
       "Delaer_Name           0\n",
       "Review              112\n",
       "Rating                0\n",
       "Model_Year            0\n",
       "Brand_Name            0\n",
       "Deal                  0\n",
       "Monthly_payment    1054\n",
       "Rating_Group          0\n",
       "Price_Group           0\n",
       "Certified_Group       0\n",
       "dtype: int64"
      ]
     },
     "execution_count": 242,
     "metadata": {},
     "output_type": "execute_result"
    }
   ],
   "source": [
    "# checking null values\n",
    "data.isnull().sum()"
   ]
  },
  {
   "cell_type": "code",
   "execution_count": 243,
   "id": "b250a5d5",
   "metadata": {},
   "outputs": [
    {
     "data": {
      "text/plain": [
       "390.0"
      ]
     },
     "execution_count": 243,
     "metadata": {},
     "output_type": "execute_result"
    }
   ],
   "source": [
    "# handeling missing value review columns\n",
    "data['Review'].median()"
   ]
  },
  {
   "cell_type": "code",
   "execution_count": 244,
   "id": "9d8dd454",
   "metadata": {},
   "outputs": [],
   "source": [
    "data['Review']=data['Review'].fillna(data['Review'].median())"
   ]
  },
  {
   "cell_type": "code",
   "execution_count": 246,
   "id": "cbe8aae6",
   "metadata": {},
   "outputs": [
    {
     "data": {
      "text/plain": [
       "Certified             0\n",
       "Model_Name            0\n",
       "Mileage               0\n",
       "Price                 0\n",
       "monthly               0\n",
       "Delaer_Name           0\n",
       "Review                0\n",
       "Rating                0\n",
       "Model_Year            0\n",
       "Brand_Name            0\n",
       "Deal                  0\n",
       "Monthly_payment    1054\n",
       "Rating_Group          0\n",
       "Price_Group           0\n",
       "Certified_Group       0\n",
       "dtype: int64"
      ]
     },
     "execution_count": 246,
     "metadata": {},
     "output_type": "execute_result"
    }
   ],
   "source": [
    "# Again Check Null Values\n",
    "data.isnull().sum()"
   ]
  },
  {
   "cell_type": "code",
   "execution_count": 247,
   "id": "aa639ff2",
   "metadata": {},
   "outputs": [],
   "source": [
    "# drop monthly columns\n",
    "data.drop(columns=['monthly'],axis=1,inplace=True)"
   ]
  },
  {
   "cell_type": "code",
   "execution_count": 252,
   "id": "4e2358f5",
   "metadata": {},
   "outputs": [],
   "source": [
    "data['Id']=data.index"
   ]
  },
  {
   "cell_type": "markdown",
   "id": "3783674a",
   "metadata": {},
   "source": [
    "# Data Tranasform or Feature Enginering"
   ]
  },
  {
   "cell_type": "markdown",
   "id": "d585117b",
   "metadata": {},
   "source": [
    "### Rating Group"
   ]
  },
  {
   "cell_type": "code",
   "execution_count": 204,
   "id": "843dcbd9",
   "metadata": {},
   "outputs": [
    {
     "name": "stdout",
     "output_type": "stream",
     "text": [
      "5.0\n",
      "0.0\n"
     ]
    }
   ],
   "source": [
    "print(data['Rating'].max())\n",
    "print(data['Rating'].min())"
   ]
  },
  {
   "cell_type": "code",
   "execution_count": 256,
   "id": "491ae620",
   "metadata": {},
   "outputs": [],
   "source": [
    "# rating group\n",
    "def rating(feature):\n",
    "    if feature>=0.0 and feature<1.0:\n",
    "        return \"Bad\"\n",
    "    elif feature>=1.0 and feature<2.0:\n",
    "        return \"One Star\"\n",
    "    elif feature>=2.0 and feature<3.0:\n",
    "        return \"Two Star\"\n",
    "    elif feature>=3.0 and feature<4.0:\n",
    "        return \"Three Star\"\n",
    "    elif feature>=4.0 and feature<5.0:\n",
    "        return \"Four Star\"\n",
    "    else:\n",
    "        return \"Five Star\""
   ]
  },
  {
   "cell_type": "code",
   "execution_count": 257,
   "id": "b397018a",
   "metadata": {},
   "outputs": [],
   "source": [
    "data['Rating_Group']=data['Rating'].apply(rating)"
   ]
  },
  {
   "cell_type": "markdown",
   "id": "1ce788c7",
   "metadata": {},
   "source": [
    "### Price Group"
   ]
  },
  {
   "cell_type": "code",
   "execution_count": 208,
   "id": "0c450a7e",
   "metadata": {},
   "outputs": [
    {
     "name": "stdout",
     "output_type": "stream",
     "text": [
      "247094\n",
      "3410\n"
     ]
    }
   ],
   "source": [
    "print(data['Price'].max())\n",
    "print(data['Price'].min())"
   ]
  },
  {
   "cell_type": "code",
   "execution_count": 215,
   "id": "304728b8",
   "metadata": {},
   "outputs": [],
   "source": [
    "# Price group\n",
    "def price(feature):\n",
    "    if feature>=0 and feature<=50000:\n",
    "        return \"Low Price\"\n",
    "    elif feature>50000 and feature<=100000:\n",
    "        return \"Medium Price\"\n",
    "    else:\n",
    "        return \"High Price\""
   ]
  },
  {
   "cell_type": "code",
   "execution_count": 216,
   "id": "8179d1a7",
   "metadata": {},
   "outputs": [],
   "source": [
    "data['Price_Group']=data['Price'].apply(price)"
   ]
  },
  {
   "cell_type": "code",
   "execution_count": 218,
   "id": "f74296d4",
   "metadata": {},
   "outputs": [
    {
     "data": {
      "text/plain": [
       "Low Price       1603\n",
       "Medium Price     431\n",
       "High Price        58\n",
       "Name: Price_Group, dtype: int64"
      ]
     },
     "execution_count": 218,
     "metadata": {},
     "output_type": "execute_result"
    }
   ],
   "source": [
    "data['Price_Group'].value_counts()"
   ]
  },
  {
   "cell_type": "code",
   "execution_count": 239,
   "id": "95897fdd",
   "metadata": {},
   "outputs": [],
   "source": [
    "# Certified group\n",
    "def certified(feature):\n",
    "    if feature=='New':\n",
    "        return \"New\"\n",
    "    elif feature==\"Used\":\n",
    "        return \"Used\"\n",
    "    else:\n",
    "        return \"Brand_New\""
   ]
  },
  {
   "cell_type": "code",
   "execution_count": 240,
   "id": "d127478e",
   "metadata": {},
   "outputs": [],
   "source": [
    "data['Certified_Group']=data['Certified'].apply(certified)"
   ]
  },
  {
   "cell_type": "code",
   "execution_count": 258,
   "id": "13b889e8",
   "metadata": {},
   "outputs": [
    {
     "data": {
      "text/html": [
       "<div>\n",
       "<style scoped>\n",
       "    .dataframe tbody tr th:only-of-type {\n",
       "        vertical-align: middle;\n",
       "    }\n",
       "\n",
       "    .dataframe tbody tr th {\n",
       "        vertical-align: top;\n",
       "    }\n",
       "\n",
       "    .dataframe thead th {\n",
       "        text-align: right;\n",
       "    }\n",
       "</style>\n",
       "<table border=\"1\" class=\"dataframe\">\n",
       "  <thead>\n",
       "    <tr style=\"text-align: right;\">\n",
       "      <th></th>\n",
       "      <th>Id</th>\n",
       "      <th>Model_Name</th>\n",
       "      <th>Model_Year</th>\n",
       "      <th>Brand_Name</th>\n",
       "      <th>Delaer_Name</th>\n",
       "      <th>Certified</th>\n",
       "      <th>Certified_Group</th>\n",
       "      <th>Deal</th>\n",
       "      <th>Mileage</th>\n",
       "      <th>Rating</th>\n",
       "      <th>Rating_Group</th>\n",
       "      <th>Review</th>\n",
       "      <th>Price</th>\n",
       "      <th>Price_Group</th>\n",
       "    </tr>\n",
       "  </thead>\n",
       "  <tbody>\n",
       "    <tr>\n",
       "      <th>0</th>\n",
       "      <td>0</td>\n",
       "      <td>2024 Hyundai Tucson Limited</td>\n",
       "      <td>2024</td>\n",
       "      <td>Hyundai</td>\n",
       "      <td>Suntrup Hyundai South</td>\n",
       "      <td>New</td>\n",
       "      <td>New</td>\n",
       "      <td>Other Deal</td>\n",
       "      <td>0</td>\n",
       "      <td>0.0</td>\n",
       "      <td>Bad</td>\n",
       "      <td>390.0</td>\n",
       "      <td>40280</td>\n",
       "      <td>Low Price</td>\n",
       "    </tr>\n",
       "    <tr>\n",
       "      <th>1</th>\n",
       "      <td>1</td>\n",
       "      <td>2020 BMW X5 xDrive40i</td>\n",
       "      <td>2020</td>\n",
       "      <td>BMW</td>\n",
       "      <td>Ed Napleton Acura Kia</td>\n",
       "      <td>Used</td>\n",
       "      <td>Used</td>\n",
       "      <td>Good Deal</td>\n",
       "      <td>44710</td>\n",
       "      <td>3.6</td>\n",
       "      <td>Three Star</td>\n",
       "      <td>608.0</td>\n",
       "      <td>39894</td>\n",
       "      <td>Low Price</td>\n",
       "    </tr>\n",
       "    <tr>\n",
       "      <th>2</th>\n",
       "      <td>2</td>\n",
       "      <td>2021 Acura RDX Advance Package</td>\n",
       "      <td>2021</td>\n",
       "      <td>Acura</td>\n",
       "      <td>Ed Napleton Acura Kia</td>\n",
       "      <td>Acura Certified</td>\n",
       "      <td>Brand_New</td>\n",
       "      <td>Good Deal</td>\n",
       "      <td>25380</td>\n",
       "      <td>3.6</td>\n",
       "      <td>Three Star</td>\n",
       "      <td>608.0</td>\n",
       "      <td>38495</td>\n",
       "      <td>Low Price</td>\n",
       "    </tr>\n",
       "    <tr>\n",
       "      <th>3</th>\n",
       "      <td>3</td>\n",
       "      <td>2021 Kia Sorento SX</td>\n",
       "      <td>2021</td>\n",
       "      <td>Kia</td>\n",
       "      <td>Ed Napleton Acura Kia</td>\n",
       "      <td>Kia Certified</td>\n",
       "      <td>Brand_New</td>\n",
       "      <td>Good Deal</td>\n",
       "      <td>26568</td>\n",
       "      <td>3.6</td>\n",
       "      <td>Three Star</td>\n",
       "      <td>608.0</td>\n",
       "      <td>33464</td>\n",
       "      <td>Low Price</td>\n",
       "    </tr>\n",
       "    <tr>\n",
       "      <th>4</th>\n",
       "      <td>4</td>\n",
       "      <td>2020 Lincoln Aviator Black Label AWD</td>\n",
       "      <td>2020</td>\n",
       "      <td>Lincoln</td>\n",
       "      <td>Ed Napleton Acura Kia</td>\n",
       "      <td>Used</td>\n",
       "      <td>Used</td>\n",
       "      <td>Good Deal</td>\n",
       "      <td>49383</td>\n",
       "      <td>3.6</td>\n",
       "      <td>Three Star</td>\n",
       "      <td>608.0</td>\n",
       "      <td>45999</td>\n",
       "      <td>Low Price</td>\n",
       "    </tr>\n",
       "  </tbody>\n",
       "</table>\n",
       "</div>"
      ],
      "text/plain": [
       "   Id                            Model_Name Model_Year Brand_Name  \\\n",
       "0   0           2024 Hyundai Tucson Limited       2024    Hyundai   \n",
       "1   1                 2020 BMW X5 xDrive40i       2020        BMW   \n",
       "2   2        2021 Acura RDX Advance Package       2021      Acura   \n",
       "3   3                   2021 Kia Sorento SX       2021        Kia   \n",
       "4   4  2020 Lincoln Aviator Black Label AWD       2020    Lincoln   \n",
       "\n",
       "             Delaer_Name        Certified Certified_Group        Deal  \\\n",
       "0  Suntrup Hyundai South              New             New  Other Deal   \n",
       "1  Ed Napleton Acura Kia             Used            Used   Good Deal   \n",
       "2  Ed Napleton Acura Kia  Acura Certified       Brand_New   Good Deal   \n",
       "3  Ed Napleton Acura Kia    Kia Certified       Brand_New   Good Deal   \n",
       "4  Ed Napleton Acura Kia             Used            Used   Good Deal   \n",
       "\n",
       "   Mileage  Rating Rating_Group  Review  Price Price_Group  \n",
       "0        0     0.0          Bad   390.0  40280   Low Price  \n",
       "1    44710     3.6   Three Star   608.0  39894   Low Price  \n",
       "2    25380     3.6   Three Star   608.0  38495   Low Price  \n",
       "3    26568     3.6   Three Star   608.0  33464   Low Price  \n",
       "4    49383     3.6   Three Star   608.0  45999   Low Price  "
      ]
     },
     "execution_count": 258,
     "metadata": {},
     "output_type": "execute_result"
    }
   ],
   "source": [
    "data.head()"
   ]
  },
  {
   "cell_type": "code",
   "execution_count": 253,
   "id": "781e5a55",
   "metadata": {},
   "outputs": [
    {
     "data": {
      "text/plain": [
       "Index(['Certified', 'Model_Name', 'Mileage', 'Price', 'Delaer_Name', 'Review',\n",
       "       'Rating', 'Model_Year', 'Brand_Name', 'Deal', 'Monthly_payment',\n",
       "       'Rating_Group', 'Price_Group', 'Certified_Group', 'Id'],\n",
       "      dtype='object')"
      ]
     },
     "execution_count": 253,
     "metadata": {},
     "output_type": "execute_result"
    }
   ],
   "source": [
    "data.columns"
   ]
  },
  {
   "cell_type": "code",
   "execution_count": 254,
   "id": "112e209c",
   "metadata": {},
   "outputs": [],
   "source": [
    "data=data[['Id','Model_Name','Model_Year','Brand_Name','Delaer_Name','Certified','Certified_Group','Deal','Mileage','Rating','Rating_Group','Review','Price','Price_Group']]"
   ]
  },
  {
   "cell_type": "code",
   "execution_count": 255,
   "id": "9542993a",
   "metadata": {},
   "outputs": [
    {
     "data": {
      "text/html": [
       "<div>\n",
       "<style scoped>\n",
       "    .dataframe tbody tr th:only-of-type {\n",
       "        vertical-align: middle;\n",
       "    }\n",
       "\n",
       "    .dataframe tbody tr th {\n",
       "        vertical-align: top;\n",
       "    }\n",
       "\n",
       "    .dataframe thead th {\n",
       "        text-align: right;\n",
       "    }\n",
       "</style>\n",
       "<table border=\"1\" class=\"dataframe\">\n",
       "  <thead>\n",
       "    <tr style=\"text-align: right;\">\n",
       "      <th></th>\n",
       "      <th>Id</th>\n",
       "      <th>Model_Name</th>\n",
       "      <th>Model_Year</th>\n",
       "      <th>Brand_Name</th>\n",
       "      <th>Delaer_Name</th>\n",
       "      <th>Certified</th>\n",
       "      <th>Certified_Group</th>\n",
       "      <th>Deal</th>\n",
       "      <th>Mileage</th>\n",
       "      <th>Rating</th>\n",
       "      <th>Rating_Group</th>\n",
       "      <th>Review</th>\n",
       "      <th>Price</th>\n",
       "      <th>Price_Group</th>\n",
       "    </tr>\n",
       "  </thead>\n",
       "  <tbody>\n",
       "    <tr>\n",
       "      <th>0</th>\n",
       "      <td>0</td>\n",
       "      <td>2024 Hyundai Tucson Limited</td>\n",
       "      <td>2024</td>\n",
       "      <td>Hyundai</td>\n",
       "      <td>Suntrup Hyundai South</td>\n",
       "      <td>New</td>\n",
       "      <td>New</td>\n",
       "      <td>Other Deal</td>\n",
       "      <td>0</td>\n",
       "      <td>0.0</td>\n",
       "      <td>One Star</td>\n",
       "      <td>390.0</td>\n",
       "      <td>40280</td>\n",
       "      <td>Low Price</td>\n",
       "    </tr>\n",
       "    <tr>\n",
       "      <th>1</th>\n",
       "      <td>1</td>\n",
       "      <td>2020 BMW X5 xDrive40i</td>\n",
       "      <td>2020</td>\n",
       "      <td>BMW</td>\n",
       "      <td>Ed Napleton Acura Kia</td>\n",
       "      <td>Used</td>\n",
       "      <td>Used</td>\n",
       "      <td>Good Deal</td>\n",
       "      <td>44710</td>\n",
       "      <td>3.6</td>\n",
       "      <td>Four Star</td>\n",
       "      <td>608.0</td>\n",
       "      <td>39894</td>\n",
       "      <td>Low Price</td>\n",
       "    </tr>\n",
       "    <tr>\n",
       "      <th>2</th>\n",
       "      <td>2</td>\n",
       "      <td>2021 Acura RDX Advance Package</td>\n",
       "      <td>2021</td>\n",
       "      <td>Acura</td>\n",
       "      <td>Ed Napleton Acura Kia</td>\n",
       "      <td>Acura Certified</td>\n",
       "      <td>Brand_New</td>\n",
       "      <td>Good Deal</td>\n",
       "      <td>25380</td>\n",
       "      <td>3.6</td>\n",
       "      <td>Four Star</td>\n",
       "      <td>608.0</td>\n",
       "      <td>38495</td>\n",
       "      <td>Low Price</td>\n",
       "    </tr>\n",
       "    <tr>\n",
       "      <th>3</th>\n",
       "      <td>3</td>\n",
       "      <td>2021 Kia Sorento SX</td>\n",
       "      <td>2021</td>\n",
       "      <td>Kia</td>\n",
       "      <td>Ed Napleton Acura Kia</td>\n",
       "      <td>Kia Certified</td>\n",
       "      <td>Brand_New</td>\n",
       "      <td>Good Deal</td>\n",
       "      <td>26568</td>\n",
       "      <td>3.6</td>\n",
       "      <td>Four Star</td>\n",
       "      <td>608.0</td>\n",
       "      <td>33464</td>\n",
       "      <td>Low Price</td>\n",
       "    </tr>\n",
       "    <tr>\n",
       "      <th>4</th>\n",
       "      <td>4</td>\n",
       "      <td>2020 Lincoln Aviator Black Label AWD</td>\n",
       "      <td>2020</td>\n",
       "      <td>Lincoln</td>\n",
       "      <td>Ed Napleton Acura Kia</td>\n",
       "      <td>Used</td>\n",
       "      <td>Used</td>\n",
       "      <td>Good Deal</td>\n",
       "      <td>49383</td>\n",
       "      <td>3.6</td>\n",
       "      <td>Four Star</td>\n",
       "      <td>608.0</td>\n",
       "      <td>45999</td>\n",
       "      <td>Low Price</td>\n",
       "    </tr>\n",
       "    <tr>\n",
       "      <th>...</th>\n",
       "      <td>...</td>\n",
       "      <td>...</td>\n",
       "      <td>...</td>\n",
       "      <td>...</td>\n",
       "      <td>...</td>\n",
       "      <td>...</td>\n",
       "      <td>...</td>\n",
       "      <td>...</td>\n",
       "      <td>...</td>\n",
       "      <td>...</td>\n",
       "      <td>...</td>\n",
       "      <td>...</td>\n",
       "      <td>...</td>\n",
       "      <td>...</td>\n",
       "    </tr>\n",
       "    <tr>\n",
       "      <th>2094</th>\n",
       "      <td>2094</td>\n",
       "      <td>2019 Chevrolet Suburban Premier</td>\n",
       "      <td>2019</td>\n",
       "      <td>Chevrolet</td>\n",
       "      <td>AutoNation Buick GMC Park Meadows</td>\n",
       "      <td>Used</td>\n",
       "      <td>Used</td>\n",
       "      <td>Fair Deal</td>\n",
       "      <td>90330</td>\n",
       "      <td>4.5</td>\n",
       "      <td>Five Star</td>\n",
       "      <td>698.0</td>\n",
       "      <td>43159</td>\n",
       "      <td>Low Price</td>\n",
       "    </tr>\n",
       "    <tr>\n",
       "      <th>2095</th>\n",
       "      <td>2095</td>\n",
       "      <td>2021 Ford Ranger XLT</td>\n",
       "      <td>2021</td>\n",
       "      <td>Ford</td>\n",
       "      <td>DESOTO Ford</td>\n",
       "      <td>Used</td>\n",
       "      <td>Used</td>\n",
       "      <td>Fair Deal</td>\n",
       "      <td>25053</td>\n",
       "      <td>4.4</td>\n",
       "      <td>Five Star</td>\n",
       "      <td>346.0</td>\n",
       "      <td>32595</td>\n",
       "      <td>Low Price</td>\n",
       "    </tr>\n",
       "    <tr>\n",
       "      <th>2096</th>\n",
       "      <td>2096</td>\n",
       "      <td>2021 GMC Canyon Elevation</td>\n",
       "      <td>2021</td>\n",
       "      <td>GMC</td>\n",
       "      <td>Salt Lake Valley Buick GMC</td>\n",
       "      <td>GMC Certified</td>\n",
       "      <td>Brand_New</td>\n",
       "      <td>Fair Deal</td>\n",
       "      <td>51179</td>\n",
       "      <td>3.2</td>\n",
       "      <td>Four Star</td>\n",
       "      <td>163.0</td>\n",
       "      <td>34000</td>\n",
       "      <td>Low Price</td>\n",
       "    </tr>\n",
       "    <tr>\n",
       "      <th>2097</th>\n",
       "      <td>2097</td>\n",
       "      <td>2021 Volkswagen Jetta 1.4T SE</td>\n",
       "      <td>2021</td>\n",
       "      <td>Volkswagen</td>\n",
       "      <td>Walla Walla Valley Honda</td>\n",
       "      <td>Used</td>\n",
       "      <td>Used</td>\n",
       "      <td>Fair Deal</td>\n",
       "      <td>61628</td>\n",
       "      <td>4.1</td>\n",
       "      <td>Five Star</td>\n",
       "      <td>152.0</td>\n",
       "      <td>20311</td>\n",
       "      <td>Low Price</td>\n",
       "    </tr>\n",
       "    <tr>\n",
       "      <th>2098</th>\n",
       "      <td>2098</td>\n",
       "      <td>2016 Lexus GX 460 Base</td>\n",
       "      <td>2016</td>\n",
       "      <td>Lexus</td>\n",
       "      <td>BMW of Salem</td>\n",
       "      <td>Used</td>\n",
       "      <td>Used</td>\n",
       "      <td>Fair Deal</td>\n",
       "      <td>76125</td>\n",
       "      <td>4.8</td>\n",
       "      <td>Five Star</td>\n",
       "      <td>747.0</td>\n",
       "      <td>35990</td>\n",
       "      <td>Low Price</td>\n",
       "    </tr>\n",
       "  </tbody>\n",
       "</table>\n",
       "<p>2092 rows × 14 columns</p>\n",
       "</div>"
      ],
      "text/plain": [
       "        Id                            Model_Name Model_Year  Brand_Name  \\\n",
       "0        0           2024 Hyundai Tucson Limited       2024     Hyundai   \n",
       "1        1                 2020 BMW X5 xDrive40i       2020         BMW   \n",
       "2        2        2021 Acura RDX Advance Package       2021       Acura   \n",
       "3        3                   2021 Kia Sorento SX       2021         Kia   \n",
       "4        4  2020 Lincoln Aviator Black Label AWD       2020     Lincoln   \n",
       "...    ...                                   ...        ...         ...   \n",
       "2094  2094       2019 Chevrolet Suburban Premier       2019   Chevrolet   \n",
       "2095  2095                  2021 Ford Ranger XLT       2021        Ford   \n",
       "2096  2096             2021 GMC Canyon Elevation       2021         GMC   \n",
       "2097  2097         2021 Volkswagen Jetta 1.4T SE       2021  Volkswagen   \n",
       "2098  2098                2016 Lexus GX 460 Base       2016       Lexus   \n",
       "\n",
       "                            Delaer_Name        Certified Certified_Group  \\\n",
       "0                 Suntrup Hyundai South              New             New   \n",
       "1                 Ed Napleton Acura Kia             Used            Used   \n",
       "2                 Ed Napleton Acura Kia  Acura Certified       Brand_New   \n",
       "3                 Ed Napleton Acura Kia    Kia Certified       Brand_New   \n",
       "4                 Ed Napleton Acura Kia             Used            Used   \n",
       "...                                 ...              ...             ...   \n",
       "2094  AutoNation Buick GMC Park Meadows             Used            Used   \n",
       "2095                        DESOTO Ford             Used            Used   \n",
       "2096         Salt Lake Valley Buick GMC    GMC Certified       Brand_New   \n",
       "2097           Walla Walla Valley Honda             Used            Used   \n",
       "2098                       BMW of Salem             Used            Used   \n",
       "\n",
       "            Deal  Mileage  Rating Rating_Group  Review  Price Price_Group  \n",
       "0     Other Deal        0     0.0     One Star   390.0  40280   Low Price  \n",
       "1      Good Deal    44710     3.6    Four Star   608.0  39894   Low Price  \n",
       "2      Good Deal    25380     3.6    Four Star   608.0  38495   Low Price  \n",
       "3      Good Deal    26568     3.6    Four Star   608.0  33464   Low Price  \n",
       "4      Good Deal    49383     3.6    Four Star   608.0  45999   Low Price  \n",
       "...          ...      ...     ...          ...     ...    ...         ...  \n",
       "2094   Fair Deal    90330     4.5    Five Star   698.0  43159   Low Price  \n",
       "2095   Fair Deal    25053     4.4    Five Star   346.0  32595   Low Price  \n",
       "2096   Fair Deal    51179     3.2    Four Star   163.0  34000   Low Price  \n",
       "2097   Fair Deal    61628     4.1    Five Star   152.0  20311   Low Price  \n",
       "2098   Fair Deal    76125     4.8    Five Star   747.0  35990   Low Price  \n",
       "\n",
       "[2092 rows x 14 columns]"
      ]
     },
     "execution_count": 255,
     "metadata": {},
     "output_type": "execute_result"
    }
   ],
   "source": [
    "data"
   ]
  },
  {
   "cell_type": "markdown",
   "id": "d9619ed6",
   "metadata": {},
   "source": [
    "# Export Data in Data Warehouse Bigquery"
   ]
  },
  {
   "cell_type": "code",
   "execution_count": 249,
   "id": "3a03ce0c",
   "metadata": {},
   "outputs": [],
   "source": [
    "from google.cloud import bigquery\n",
    "from pandas_gbq import to_gbq"
   ]
  },
  {
   "cell_type": "code",
   "execution_count": 259,
   "id": "84cad525",
   "metadata": {},
   "outputs": [
    {
     "name": "stderr",
     "output_type": "stream",
     "text": [
      "100%|████████████████████████████████████████████████████████████████████████████████████████████| 1/1 [00:00<?, ?it/s]\n"
     ]
    }
   ],
   "source": [
    "# Replace with your destination table's details\n",
    "project_id = 'dbt-project-396315'\n",
    "dataset_id = 'pizza_sales'\n",
    "table_id = 'car_data'\n",
    "\n",
    "# Upload DataFrame to BigQuery\n",
    "to_gbq(data, destination_table=f\"{project_id}.{dataset_id}.{table_id}\", project_id=project_id, if_exists='replace')"
   ]
  },
  {
   "cell_type": "code",
   "execution_count": null,
   "id": "19165097",
   "metadata": {},
   "outputs": [],
   "source": []
  }
 ],
 "metadata": {
  "kernelspec": {
   "display_name": "Python 3 (ipykernel)",
   "language": "python",
   "name": "python3"
  },
  "language_info": {
   "codemirror_mode": {
    "name": "ipython",
    "version": 3
   },
   "file_extension": ".py",
   "mimetype": "text/x-python",
   "name": "python",
   "nbconvert_exporter": "python",
   "pygments_lexer": "ipython3",
   "version": "3.9.7"
  }
 },
 "nbformat": 4,
 "nbformat_minor": 5
}
